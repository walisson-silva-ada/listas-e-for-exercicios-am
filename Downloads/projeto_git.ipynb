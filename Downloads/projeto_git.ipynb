{
 "cells": [
  {
   "cell_type": "markdown",
   "metadata": {},
   "source": [
    "Desafio 1 - Faça um programa que peça para o usuário digitar o nome e a idade de um aluno e o número de provas que esse aluno fez. Depois, o programa deve pedir para o usuário digitar as notas de cada prova do aluno. Ao final o programa deve imprimir uma lista contendo:"
   ]
  },
  {
   "cell_type": "code",
   "execution_count": null,
   "metadata": {},
   "outputs": [],
   "source": [
    "nome = input(\"Digite o nome: \") idade = int(input(\"Digite a idade: \")) num_provas = int(input(\"Digite o número de provas: \")) lista = []\n",
    "\n",
    "for i in range (num_provas): notas = int(input(f'Digite a nota {i+1} do aluno:')) lista.append(notas)\n",
    "\n",
    "media = sum(lista)/num_provas\n",
    "\n",
    "if media > 5: validacao = True else: validacao = False\n",
    "\n",
    "lista=[f'Nome:{nome},Idade:{idade}, Notas:{lista}, Média:{media} ,Validação:{validacao}']\n",
    "\n",
    "print(lista)\n",
    "       "
   ]
  },
  {
   "cell_type": "markdown",
   "metadata": {},
   "source": [
    "Desafio 2 - Faça um programa como o do item anterior, porém que imprima a média sem considerar a maior e menor nota do aluno (nesse caso o número de provas precisa ser obrigatoriamente maior que dois).\n",
    "\n",
    "Dica: crie uma cópia com a lista de todas as notas antes de fazer a média."
   ]
  },
  {
   "cell_type": "code",
   "execution_count": null,
   "metadata": {},
   "outputs": [],
   "source": [
    "nome = input(\"Digite o nome: \") idade = int(input(\"Digite a idade: \")) num_provas = int(input(\"Digite o número de provas: \")) lista = []\n",
    "\n",
    "for i in range (num_provas): if num_provas >= 2: notas = int(input(f'Digite a nota {i+1} do aluno:')) lista.append(notas) else: print(\"O número de provas deverá ser maio que 2\")\n",
    "\n",
    "lista.remove(max(lista)) lista.remove(min(lista))\n",
    "media = sum(lista)/num_provas\n",
    "\n",
    "if media > 5: validacao = True else: validacao = False\n",
    "\n",
    "lista=[f'Nome:{nome},Idade:{idade}, Notas:{lista}, Média:{media} ,Validação:{validacao}']\n",
    "\n",
    "print(lista)"
   ]
  },
  {
   "cell_type": "markdown",
   "metadata": {},
   "source": [
    "Desafio 3 - Faça um programa que pede para o usuário digitar o CPF e verifica se ele é válido. Para isso, primeiramente o programa deve multiplicar cada um dos 9 primeiros dígitos do CPF pelos números de 10 a 2 e somar todas as respostas. O resultado deve ser multiplicado por 10 e dividido por 11. O resto dessa divisão deve ser igual ao primeiro dígito verificador (10º dígito). Em seguida, o programa deve multiplicar cada um dos 10 primeiros dígitos do CPF pelos números de 11 a 2 e repetir o procedimento anterior para verificar o segundo dígito verificador."
   ]
  },
  {
   "cell_type": "code",
   "execution_count": null,
   "metadata": {},
   "outputs": [],
   "source": [
    "def validacao(cpf):\n",
    "\n",
    "if len(cpf) < 11:\n",
    "    return False    \n",
    "\n",
    "if cpf in [s * 11 for s in [str(n) for n in range(10)]]:\n",
    "    return False\n",
    "\n",
    "calc = lambda t: int(t[1]) * (t[0] + 2)\n",
    "d1 = (sum(map(calc, enumerate(reversed(cpf[:-2])))) * 10) % 11\n",
    "d2 = (sum(map(calc, enumerate(reversed(cpf[:-1])))) * 10) % 11\n",
    "return str(d1) == cpf[-2] and str(d2) == cpf[-1]\n"
   ]
  },
  {
   "cell_type": "markdown",
   "metadata": {},
   "source": [
    "Enunciado\n",
    "Super desafio! Faça um sistema de cadastro de clientes. Modele cada cliente como uma lista de três elementos: nome, CPF e e-mail.\n",
    "\n",
    "a. Faça uma função que peça o nome, o CPF e o e-mail da pessoa e retorne uma lista contendo esses elementos nessa ordem.\n",
    "\n",
    "b. Os clientes cadastrados devem ser armazenados em uma lista (uma lista de listas, já que cada cliente será uma lista tal como produzido no item a).\n",
    "\n",
    "c. Faça uma função que recebe a lista do item b) e um CPF e, se esse cliente estiver na lista de cadastro, sua função deve devolver a lista de dados desse cliente; caso contrário, sua função deve imprimir “não encontrado”.\n",
    "\n",
    "d. Enquanto não for digitado 0, o seu programa deve continuar rodando. Se digitado 1, seu programa deve cadastrar um novo cliente; se digitado 2, seu programa deve pedir um CPF e procurá-lo na lista de clientes (item c); se digitado 3, seu programa deve imprimir todos os clientes cadastrados."
   ]
  },
  {
   "cell_type": "code",
   "execution_count": null,
   "metadata": {},
   "outputs": [],
   "source": [
    "import random\n",
    "\n",
    "baralho = []\n",
    "tracinhos = ('-=')*20\n",
    "\n",
    "print(f\"{tracinhos}\\n    Bem-Vindo ao Jogo!    \\n{tracinhos}\")\n",
    "jogadores_dict = {}\n",
    "nomes_jogadores = []\n",
    "num_jog = 0\n",
    "\n",
    "def jogadores():\n",
    "    num_jog = int(input('Qual o número de jogadores?\\n'))\n",
    "    count = 1\n",
    "    while count < num_jog + 1:\n",
    "        nome = input(f'Digite o nome do jogador {count}: \\n')\n",
    "        nomes_jogadores.append(nome)\n",
    "\n",
    "        count += 1\n",
    "\n",
    "def baralho_jogo():\n",
    "    count = 1\n",
    "    while count < 11:\n",
    "        baralho.append(count)\n",
    "        count += 1\n",
    "\n",
    "def jogadas():\n",
    "    \n",
    "    for jogador in nomes_jogadores:\n",
    "        print(f'Faça suas jogadas {jogador}')\n",
    "        total_jogador = 0\n",
    "        x = 0\n",
    "        p2 = 0\n",
    "       \n",
    "        while p2 != 'N' and p2 != 'NAO' and p2 != 'NÃO':\n",
    "            \n",
    "            x = random.choice(baralho)\n",
    "            total_jogador += x\n",
    "            print(\"\\nSua carta é\", x)\n",
    "            print(f'O total até o momento é de {total_jogador}')\n",
    "            p2 = str(input(\"Você quer mais cartas?\\n>> \").upper()) \n",
    "\n",
    "            if total_jogador > 21:\n",
    "                print('Você estourou estourou!')\n",
    "                p2 = 'N'\n",
    "            \n",
    "        jogadas_dict = {\n",
    "            jogador: total_jogador\n",
    "        }\n",
    "        jogadores_dict.update(jogadas_dict)\n",
    "\n",
    "\n",
    "def verifica_vencedor():\n",
    "    print(f\"{tracinhos}\\n              PLACAR    \\n{tracinhos}\")\n",
    "    for jogador in jogadores_dict:\n",
    "\n",
    "        if jogadores_dict[jogador] <= 21:\n",
    "            print(f'Parabéns {jogador} você ganhou! Pontuação: {jogadores_dict[jogador]}')\n",
    "        else:\n",
    "            print(f'{jogador}, Pontuação estourada! Pontuação: {jogadores_dict[jogador]}')\n",
    "        \n",
    "     \n",
    "jogadores()\n",
    "baralho_jogo()\n",
    "jogadas()\n",
    "verifica_vencedor()"
   ]
  },
  {
   "cell_type": "markdown",
   "metadata": {},
   "source": [
    "Super desafio! Faça um sistema de cadastro de clientes. Modele cada cliente como uma lista de três elementos: nome, CPF e e-mail.\n",
    "\n",
    "a. Faça uma função que peça o nome, o CPF e o e-mail da pessoa e retorne uma lista contendo esses elementos nessa ordem.\n",
    "\n",
    "b. Os clientes cadastrados devem ser armazenados em uma lista (uma lista de listas, já que cada cliente será uma lista tal como produzido no item a).\n",
    "\n",
    "c. Faça uma função que recebe a lista do item b) e um CPF e, se esse cliente estiver na lista de cadastro, sua função deve devolver a lista de dados desse cliente; caso contrário, sua função deve imprimir “não encontrado”.\n",
    "\n",
    "d. Enquanto não for digitado 0, o seu programa deve continuar rodando. Se digitado 1, seu programa deve cadastrar um novo cliente; se digitado 2, seu programa deve pedir um CPF e procurá-lo na lista de clientes (item c); se digitado 3, seu programa deve imprimir todos os clientes cadastrados."
   ]
  },
  {
   "cell_type": "code",
   "execution_count": null,
   "metadata": {},
   "outputs": [],
   "source": [
    "def cadastro():\n",
    "    lista = []\n",
    "    nome = input('Nome: ')\n",
    "    lista.append(nome)\n",
    "    CPF = input('cpf: ')\n",
    "    lista.append(CPF)\n",
    "    email = input('email: ')\n",
    "    lista.append(email)\n",
    "    return lista\n",
    "\n",
    "def cliente(cadastros, busca_cpf):\n",
    "    NaoEncontrou = True\n",
    "    for i in range(len(cadastros)):\n",
    "        if cadastros[i][1] == busca_cpf:\n",
    "            NaoEncontrou = False\n",
    "            return cadastros[i]\n",
    "    if NaoEncontrou:\n",
    "        print('CPF não encontrado')\n",
    "        return ''\n",
    "\n",
    "def numeros():\n",
    "    resposta = ''\n",
    "    try:\n",
    "        while resposta not in (0, 1, 2, 3):\n",
    "            resposta = int(input('Digite 1 para cadastrar um usuário, 2 para buscar por CPF, 3 para imprimir os usuários já cadastrados ou 0 para fechar o programa: '))\n",
    "    except:\n",
    "        numeros()\n",
    "    return resposta\n",
    "\n",
    "resposta = numeros()\n",
    "cadastros = []\n",
    "while resposta != 0:\n",
    "    if resposta == 1:\n",
    "        cadastros.append(cadastro())\n",
    "        resposta = numeros()\n",
    "    elif resposta == 3:\n",
    "        for i in range(len(cadastros)):\n",
    "            print(f'Nome: {cadastros[i][0]}; CPF: {cadastros[i][1]}; E-mail: {cadastros[i][2]}')\n",
    "        resposta = numeros()\n",
    "    elif resposta == 2:\n",
    "        busca_cpf = input('Informe o CPF procurado: ')\n",
    "        procura = cliente(cadastros, busca_cpf)\n",
    "        if procura != '':\n",
    "            print(f'Nome: {procura[0]}; CPF: {procura[1]}; E-mail: {procura[2]}')\n",
    "        resposta = numeros()\n",
    "    else:\n",
    "        resposta = 0"
   ]
  }
 ],
 "metadata": {
  "kernelspec": {
   "display_name": "Python 3",
   "language": "python",
   "name": "python3"
  },
  "language_info": {
   "codemirror_mode": {
    "name": "ipython",
    "version": 3
   },
   "file_extension": ".py",
   "mimetype": "text/x-python",
   "name": "python",
   "nbconvert_exporter": "python",
   "pygments_lexer": "ipython3",
   "version": "3.7.6"
  }
 },
 "nbformat": 4,
 "nbformat_minor": 4
}
