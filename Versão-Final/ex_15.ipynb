{
 "cells": [
  {
   "cell_type": "markdown",
   "metadata": {},
   "source": [
    "\n",
    "Desafio 1 - Faça um programa que peça para o usuário digitar o nome e a idade de um aluno e o número de provas que esse aluno fez. Depois, o programa deve pedir para o usuário digitar as notas de cada prova do aluno. Ao final o programa deve imprimir uma lista contendo:"
   ]
  },
  {
   "cell_type": "code",
   "execution_count": 4,
   "metadata": {},
   "outputs": [
    {
     "name": "stdout",
     "output_type": "stream",
     "text": [
      "Digite o nome: Beatriz\n",
      "Digite a idade: 23\n",
      "Digite o número de provas: 2\n",
      "Digite a nota 1 do aluno:2.1\n",
      "Digite a nota 2 do aluno:1\n",
      "['Nome:Beatriz,Idade:23, Notas:[2.1, 1.0], Média:1.55 ,Validação:False']\n"
     ]
    }
   ],
   "source": [
    "nome = input(\"Digite o nome: \") \n",
    "idade = int(input(\"Digite a idade: \")) \n",
    "num_provas = int(input(\"Digite o número de provas: \")) \n",
    "lista = []\n",
    "\n",
    "for i in range (num_provas): \n",
    "    notas = float(input(f'Digite a nota {i+1} do aluno:')) \n",
    "    lista.append(notas)\n",
    "\n",
    "media = sum(lista)/num_provas\n",
    "\n",
    "if media > 5: \n",
    "    validacao = True \n",
    "else: \n",
    "    validacao = False\n",
    "\n",
    "lista=[f'Nome:{nome},Idade:{idade}, Notas:{lista}, Média:{media} ,Validação:{validacao}']\n",
    "\n",
    "print(lista)"
   ]
  },
  {
   "cell_type": "code",
   "execution_count": null,
   "metadata": {},
   "outputs": [],
   "source": []
  }
 ],
 "metadata": {
  "kernelspec": {
   "display_name": "Python 3",
   "language": "python",
   "name": "python3"
  },
  "language_info": {
   "codemirror_mode": {
    "name": "ipython",
    "version": 3
   },
   "file_extension": ".py",
   "mimetype": "text/x-python",
   "name": "python",
   "nbconvert_exporter": "python",
   "pygments_lexer": "ipython3",
   "version": "3.7.6"
  }
 },
 "nbformat": 4,
 "nbformat_minor": 4
}
